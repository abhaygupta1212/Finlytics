{
 "cells": [
  {
   "cell_type": "code",
   "execution_count": 30,
   "id": "6ce53970",
   "metadata": {},
   "outputs": [],
   "source": [
    "import sympy as sp\n",
    "\n",
    "def time_value(amount,\n",
    "                 annual_interest_rate,\n",
    "                 time_in_years,\n",
    "                 compounding_frequency = 1, action=\"future_value\"):\n",
    "    \"\"\"\n",
    "    Calculate the future value or present value of an investment using compound or continuous compounding.\n",
    "\n",
    "    Parameters\n",
    "    ----------\n",
    "    amount : float\n",
    "        The principal (for future value) or the desired value (for present value).\n",
    "    annual_interest_rate : float\n",
    "        The annual interest rate (in decimal form, e.g., 0.08 for 8%).\n",
    "    time_in_years : float\n",
    "        The total time (in years) for investment or discounting.\n",
    "    compounding_frequency : int | str, optional\n",
    "        Number of times the interest is compounded per year.\n",
    "        Use \"infinity\" for continuous compounding. Default is 1 (annual compounding).\n",
    "    action : {\"future_value\", \"present_value\"}, optional\n",
    "        The calculation type. Default is \"future_value\".\n",
    "\n",
    "    Returns\n",
    "    -------\n",
    "    float\n",
    "        The computed future value or present value of the investment.\n",
    "        \n",
    "    \"\"\"\n",
    "\n",
    "    if compounding_frequency == \"infinity\":\n",
    "        compounding_frequency = sp.oo  # Continuous compounding\n",
    "    \n",
    "    comp_symbol = sp.symbols('m')  # symbolic variable for compounding frequency\n",
    "\n",
    "    # General compounding expression\n",
    "    compound_expr = ((1 + (annual_interest_rate / comp_symbol)) ** comp_symbol) - 1\n",
    "    \n",
    "    # Take limit for given compounding frequency (handles both finite and continuous)\n",
    "    effective_rate = sp.limit(compound_expr, comp_symbol, compounding_frequency)\n",
    "    \n",
    "    if action == \"future_value\":\n",
    "    # Future value formula\n",
    "        future_val = amount * ((1 + effective_rate) ** time_in_years)\n",
    "        return future_val.evalf()\n",
    "    else:\n",
    "        present_value = amount / ((1 + effective_rate) ** time_in_years)\n",
    "        return present_value.evalf()\n"
   ]
  },
  {
   "cell_type": "code",
   "execution_count": 31,
   "id": "4e382fd2",
   "metadata": {},
   "outputs": [
    {
     "data": {
      "text/latex": [
       "$\\displaystyle 1166.4$"
      ],
      "text/plain": [
       "1166.40000000000"
      ]
     },
     "execution_count": 31,
     "metadata": {},
     "output_type": "execute_result"
    }
   ],
   "source": [
    "future_value(1000, 0.08, 2)"
   ]
  },
  {
   "cell_type": "code",
   "execution_count": 32,
   "id": "5259a5aa",
   "metadata": {},
   "outputs": [
    {
     "data": {
      "text/latex": [
       "$\\displaystyle 1173.51087099181$"
      ],
      "text/plain": [
       "1173.51087099181"
      ]
     },
     "execution_count": 32,
     "metadata": {},
     "output_type": "execute_result"
    }
   ],
   "source": [
    "time_value(1000, 0.08, 2, compounding_frequency=\"infinity\")"
   ]
  },
  {
   "cell_type": "code",
   "execution_count": 33,
   "id": "702a6532",
   "metadata": {},
   "outputs": [
    {
     "data": {
      "text/latex": [
       "$\\displaystyle 999.999257789739$"
      ],
      "text/plain": [
       "999.999257789739"
      ]
     },
     "execution_count": 33,
     "metadata": {},
     "output_type": "execute_result"
    }
   ],
   "source": [
    "time_value(1173.51 , 0.08, 2, compounding_frequency=\"infinity\", action='present_value')"
   ]
  },
  {
   "cell_type": "code",
   "execution_count": null,
   "id": "d6bcadb4",
   "metadata": {},
   "outputs": [],
   "source": []
  }
 ],
 "metadata": {
  "kernelspec": {
   "display_name": "Python 3 (ipykernel)",
   "language": "python",
   "name": "python3"
  },
  "language_info": {
   "codemirror_mode": {
    "name": "ipython",
    "version": 3
   },
   "file_extension": ".py",
   "mimetype": "text/x-python",
   "name": "python",
   "nbconvert_exporter": "python",
   "pygments_lexer": "ipython3",
   "version": "3.9.13"
  }
 },
 "nbformat": 4,
 "nbformat_minor": 5
}
